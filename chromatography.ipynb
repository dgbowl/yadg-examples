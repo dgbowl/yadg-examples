{
 "cells": [
  {
   "cell_type": "markdown",
   "id": "ea6aaf9f",
   "metadata": {},
   "source": [
    "## 3. yadg usage: chromatography example\n",
    "\n",
    "As of `yadg-4.0.0`, the package contains parsers for several chromatography file formats, and a powerful chromatogram integrator with a calibration interface. Both of these features will be discussed below. "
   ]
  },
  {
   "cell_type": "markdown",
   "id": "738ee626",
   "metadata": {},
   "source": [
    "### 3.1. example without calibration: Fusion `json` files\n",
    "As the Fusion `json` files contain integrated peak areas and concentrations of detected species, we will use those to illustrate the usage of `yadg` in parsing simple chromatographic data. The data files are placed in the `data/` directory. To process these with `yadg` we need a `dataschema` file:\n",
    "\n",
    "```json\n",
    "# data/fusionjson.schema.json\n",
    "{\n",
    "    \"metadata\": {\n",
    "        \"provenance\": \"manual\",\n",
    "        \"schema_version\": \"4.0.0\"\n",
    "    },\n",
    "    \"steps\": [\n",
    "        {\n",
    "            \"parser\": \"chromtrace\",\n",
    "            \"import\": {\n",
    "                \"folders\": [\"data/fusion/\"]\n",
    "            },\n",
    "            \"parameters\": {\"tracetype\": \"fusion.json\"}\n",
    "        }\n",
    "    ]\n",
    "}\n",
    "```\n",
    "\n",
    "As in the [electrochemistry](electrochemistry.ipynb) example, the `metadata` key contains information about the `provenance` of the `dataschema`, as well as the version information. \n",
    "\n",
    "The Fusion `json` files are placed in the `data/fusion/` folder, and every file in that folder will be parsed by `yadg` using the `chromtrace` parser.\n",
    "\n",
    "The above `dataschema` is saved in [schemas/fusionjson.schema.json](schemas/fusionjson.schema.json), and can be processed as follows:"
   ]
  },
  {
   "cell_type": "code",
   "execution_count": 5,
   "id": "a304a11a",
   "metadata": {},
   "outputs": [
    {
     "name": "stderr",
     "output_type": "stream",
     "text": [
      "INFO:root:yadg process: Reading input json from 'schemas/fusionjson.schema.json'.\n",
      "WARNING:root:schema_validator: Timezone not specified. Using 'localtime'.\n",
      "INFO:root:schema_validator: Tag not present in step 0. Using '00'\n",
      "INFO:root:schema_validator: Encoding not present in step 0. Using 'utf-8'\n",
      "INFO:root:process_schema: processing step 0:\n",
      "WARNING:root:chromtrace: Neither 'calfile' nor both 'species' and 'detectors' were provided. Will proceed without peak integration.\n",
      "WARNING:root:chromtrace: Neither 'calfile' nor both 'species' and 'detectors' were provided. Will proceed without peak integration.\n",
      "WARNING:root:chromtrace: Neither 'calfile' nor both 'species' and 'detectors' were provided. Will proceed without peak integration.\n",
      "WARNING:root:chromtrace: Neither 'calfile' nor both 'species' and 'detectors' were provided. Will proceed without peak integration.\n",
      "INFO:root:yadg process: Saving datagram to 'output/fusionjson.dg.json'.\n"
     ]
    }
   ],
   "source": [
    "! yadg process -v schemas/fusionjson.schema.json output/fusionjson.dg.json"
   ]
  },
  {
   "cell_type": "markdown",
   "id": "3b2270d0",
   "metadata": {},
   "source": [
    "Note that `yadg` warns the user that integration/calibration information has not been provided by the user. \n",
    "\n",
    "If the above command finished successfully, the output `datagram` will be located in [output/fusionjson.dg.json](output/fusionjson.dg.json).\n",
    "\n",
    "The `datagram` contains a single `step`, with 4 timesteps (corresponding to the 4 processed files). The trace data is present in the `raw` section of each timestep, containing the $[t, y]$ axes of the chromatogram, and the integrated peak data from the raw data file, if available. See [the parser description](https://dgbowl.github.io/yadg/4.0.0/parsers.chromtrace.html) for more details."
   ]
  },
  {
   "cell_type": "markdown",
   "id": "087f1f46",
   "metadata": {},
   "source": [
    "### 3.2. example with calibration: EZChrom `asc` files\n",
    "The EZChrom ASCII files, exported using the EZChrom utility from Agilent instruments, do not contain integrated peak areas. Therefore, we need to specify a set of integration/calibration parameters in the `dataschema` file:\n",
    "\n",
    "```json\n",
    "# data/ezchrom.schema.json\n",
    "{\n",
    "    \"metadata\": {\n",
    "        \"provenance\": \"manual\",\n",
    "        \"schema_version\": \"4.0.0\"\n",
    "    },\n",
    "    \"steps\": [\n",
    "        {\n",
    "            \"parser\": \"chromtrace\",\n",
    "            \"import\": {\n",
    "                \"folders\": [\"data/agilentcsv/\"],\n",
    "                \"prefix\": \"2019\"\n",
    "                \n",
    "            },\n",
    "            \"parameters\": {\n",
    "                \"tracetype\": \"ezchrom.asc\",\n",
    "                \"calfile\": \"calibrations/gccal.json\"\n",
    "            }\n",
    "        }\n",
    "    ]\n",
    "}\n",
    "```\n",
    "\n",
    "The Agilent `dat.asc` files are placed in the `data/fusion/` folder, and every file in that folder will be parsed by `yadg` using the `chromtrace` parser.\n",
    "\n",
    "Note that the calibration information is provided in the `calfile` argument to the `parameters` entry. More details about this functionality can be found [in the manual](https://dgbowl.github.io/yadg/4.0.0/yadg.parsers.chromtrace.html#module-yadg.parsers.chromtrace.integration).\n",
    "\n",
    "The above `dataschema` is saved in [schemas/ezchrom.schema.json](schemas/fusionjson.schema.json), and can be processed as follows:"
   ]
  },
  {
   "cell_type": "code",
   "execution_count": 10,
   "id": "76f176c8",
   "metadata": {},
   "outputs": [
    {
     "name": "stderr",
     "output_type": "stream",
     "text": [
      "WARNING:root:schema_validator: Timezone not specified. Using 'localtime'.\n",
      "WARNING:root:ezchromasc: Implicit conversion of y-axis unit from '25 V' to 'V'.\n",
      "WARNING:root:chromtrace: smoothing with a polyorder == 2 can be unreliable. Consider switching to a higher polyorder or disabling smoothing completely.\n",
      "WARNING:root:chromtrace: smoothing with a polyorder == 2 can be unreliable. Consider switching to a higher polyorder or disabling smoothing completely.\n",
      "WARNING:root:ezchromasc: Implicit conversion of y-axis unit from '25 V' to 'V'.\n",
      "WARNING:root:chromtrace: smoothing with a polyorder == 2 can be unreliable. Consider switching to a higher polyorder or disabling smoothing completely.\n",
      "WARNING:root:chromtrace: smoothing with a polyorder == 2 can be unreliable. Consider switching to a higher polyorder or disabling smoothing completely.\n",
      "WARNING:root:ezchromasc: Implicit conversion of y-axis unit from '25 V' to 'V'.\n",
      "WARNING:root:chromtrace: smoothing with a polyorder == 2 can be unreliable. Consider switching to a higher polyorder or disabling smoothing completely.\n",
      "WARNING:root:chromtrace: smoothing with a polyorder == 2 can be unreliable. Consider switching to a higher polyorder or disabling smoothing completely.\n",
      "WARNING:root:ezchromasc: Implicit conversion of y-axis unit from '25 V' to 'V'.\n",
      "WARNING:root:chromtrace: smoothing with a polyorder == 2 can be unreliable. Consider switching to a higher polyorder or disabling smoothing completely.\n",
      "WARNING:root:chromtrace: smoothing with a polyorder == 2 can be unreliable. Consider switching to a higher polyorder or disabling smoothing completely.\n",
      "WARNING:root:ezchromasc: Implicit conversion of y-axis unit from '25 V' to 'V'.\n",
      "WARNING:root:chromtrace: smoothing with a polyorder == 2 can be unreliable. Consider switching to a higher polyorder or disabling smoothing completely.\n",
      "WARNING:root:chromtrace: smoothing with a polyorder == 2 can be unreliable. Consider switching to a higher polyorder or disabling smoothing completely.\n"
     ]
    }
   ],
   "source": [
    "! yadg process schemas/ezchrom.schema.json output/ezchrom.dg.json"
   ]
  },
  {
   "cell_type": "markdown",
   "id": "825ab747",
   "metadata": {},
   "source": [
    "If the above command finished successfully, the output `datagram` will be located in [output/ezchrom.dg.json](output/ezchrom.dg.json).\n",
    "\n",
    "The `datagram` contains a single `step`, with 5 timesteps (corresponding to the 5 processed files). The trace data is present in the `raw` section of each timestep, containing the [t, y] axes of the chromatogram. The integrated peak data, using the calibration provided in `calfile` of the `schema`, is located in the `derived` section of each timestep, and includes the peak data of every matched peak in each trace, as well as the normalised mole fractions in `xout`."
   ]
  },
  {
   "cell_type": "markdown",
   "id": "d74ab321",
   "metadata": {},
   "source": [
    "[Back to index](index.ipynb)"
   ]
  }
 ],
 "metadata": {
  "kernelspec": {
   "display_name": "yadg-usage",
   "language": "python",
   "name": "yadg-usage"
  },
  "language_info": {
   "codemirror_mode": {
    "name": "ipython",
    "version": 3
   },
   "file_extension": ".py",
   "mimetype": "text/x-python",
   "name": "python",
   "nbconvert_exporter": "python",
   "pygments_lexer": "ipython3",
   "version": "3.9.7"
  }
 },
 "nbformat": 4,
 "nbformat_minor": 5
}
