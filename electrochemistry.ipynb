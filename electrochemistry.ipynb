{
 "cells": [
  {
   "cell_type": "markdown",
   "id": "02deb5e9",
   "metadata": {},
   "source": [
    "## 2. yadg usage: electrochemistry example\n",
    "\n",
    "As of `yadg-4.0.0`, the package contains a powerful parser for binary (`mpr`) and ASCII (`mpt`) files produced by BioLogic's EC-Lab. Parsing files with a wide array of electrochemical techniques is supported, including techniques such as PEIS (potentio electrochemical impedance spectroscopy), GCPL (galvanostatic cycling with potential limitation) or MB (modulo-bat).\n",
    "\n",
    "A selection of electrochemical technique files is placed in the `data/` directory. To process these with `yadg` we need a `dataschema` file:\n",
    "\n",
    "```json\n",
    "# data/electrochemistry.schema.json\n",
    "{\n",
    "    \"metadata\": {\n",
    "        \"provenance\": \"manual\",\n",
    "        \"schema_version\": \"4.0.0\"\n",
    "    },\n",
    "    \"steps\": [\n",
    "        {\n",
    "            \"parser\": \"electrochem\",\n",
    "            \"import\": {\n",
    "                \"files\": [\"data/ocv.mpt\", \"data/gcpl.mpt\"],\n",
    "                \"encoding\": \"windows-1252\"\n",
    "            },\n",
    "            \"parameters\": {\"filetype\": \"eclab.mpt\"}\n",
    "        },\n",
    "        {\n",
    "            \"parser\": \"electrochem\",\n",
    "            \"import\": {\n",
    "                \"folders\": [\"data\"],\n",
    "                \"suffix\": \".mpr\"\n",
    "            },\n",
    "            \"parameters\": {\"filetype\": \"eclab.mpr\"}\n",
    "        }\n",
    "    ]\n",
    "}\n",
    "```\n",
    "\n",
    "The `metadata` key contains information about the `provenance` of the `dataschema` (in this case manual as we created it by hand), as well as the version information (`4.0.0`). The file structure is then described in the `steps` section. In this case, we want to process the electrochemistry data in two steps:\n",
    "\n",
    "- the first `step` will be produced using the `electrochem` parser, it will parse an OCV and GCPL file, with an additional instruction that the files are EC-Lab `mpt` filetypes. Note that the `mpt` files are using `windows-1252` encoding, which has to be specified manually.\n",
    "- the second `step` will be also produced using the `electrochem` parser, but it will process any files in the `data` folder that end with `\".mpr\"`; accordingly, these files will be parsed as EC-Lab `mpr` binary files.\n",
    "\n",
    "The above `dataschema` is saved in [schemas/electrochemistry.schema.json](schemas/electrochemistry.schema.json), and can be processed as follows: "
   ]
  },
  {
   "cell_type": "code",
   "execution_count": 5,
   "id": "f33ffa92",
   "metadata": {},
   "outputs": [
    {
     "name": "stderr",
     "output_type": "stream",
     "text": [
      "WARNING:root:schema_validator: Timezone not specified. Using 'localtime'.\n"
     ]
    }
   ],
   "source": [
    "! yadg process schemas/electrochemistry.schema.json output/electrochemistry.dg.json"
   ]
  },
  {
   "cell_type": "markdown",
   "id": "3e37a852",
   "metadata": {},
   "source": [
    "If the above command finished successfully, the output `datagram` will be located in [output/electrochemistry.dg.json](output/electrochemistry.dg.json). Note that `yadg` processes the `dataschema` within the current working directory: the `data` folder has to be present in the working directory, otherwise the files specified in the `dataschema` won't be found. See [the parser description](https://dgbowl.github.io/yadg/4.0.0/parsers.electrochem.html) for more details."
   ]
  },
  {
   "cell_type": "markdown",
   "id": "ea9169a1",
   "metadata": {},
   "source": [
    "[Back to index](index.ipynb)"
   ]
  }
 ],
 "metadata": {
  "kernelspec": {
   "display_name": "yadg-usage",
   "language": "python",
   "name": "yadg-usage"
  },
  "language_info": {
   "codemirror_mode": {
    "name": "ipython",
    "version": 3
   },
   "file_extension": ".py",
   "mimetype": "text/x-python",
   "name": "python",
   "nbconvert_exporter": "python",
   "pygments_lexer": "ipython3",
   "version": "3.9.7"
  }
 },
 "nbformat": 4,
 "nbformat_minor": 5
}
