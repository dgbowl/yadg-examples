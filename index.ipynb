{
 "cells": [
  {
   "cell_type": "markdown",
   "id": "1942b5bf",
   "metadata": {},
   "source": [
    "# How to use `yadg-5.0`\n",
    "### Author: Peter Kraus, Date: 2023-11-29\n",
    "\n",
    "This notebook contains several interactive examples on how to install and use `yadg-5.0` to achieve:\n",
    "\n",
    "- Extraction of (meta)data from individual files \n",
    "- Processing of a heterogeneous set of files into a standardised format using a *dataschema*\n",
    "- Reproducible processing of structured raw data folders using a *dataschema preset*\n",
    "\n",
    "The tutorial is split into the following parts:\n",
    "\n",
    " 1. [Installation](01_install.ipynb)\n",
    " 1. Usage: single file extraction - [`yadg extract` example usage](02_extract.ipynb)\n",
    " 1. Usage: folder with raw data - [`yadg process` example usage](03_process.ipynb)\n",
    " 1. Usage: reuse of *dataschema* presets - [`yadg preset` example usage](03_process.ipynb)\n",
    "\n",
    "Please make sure you follow the above tutorial step-by-step, as out-of-the box, `yadg-5.0` is not installed.\n",
    "\n",
    "In case of any queries or questions, contact us via [GitHub](https://github.com/dgbowl/yadg)."
   ]
  },
  {
   "cell_type": "code",
   "execution_count": null,
   "id": "4d13cb4f-8498-4246-ae7b-61d238715440",
   "metadata": {},
   "outputs": [],
   "source": []
  }
 ],
 "metadata": {
  "kernelspec": {
   "display_name": "yadg-examples",
   "language": "python",
   "name": "yadg-examples"
  },
  "language_info": {
   "codemirror_mode": {
    "name": "ipython",
    "version": 3
   },
   "file_extension": ".py",
   "mimetype": "text/x-python",
   "name": "python",
   "nbconvert_exporter": "python",
   "pygments_lexer": "ipython3",
   "version": "3.11.5"
  }
 },
 "nbformat": 4,
 "nbformat_minor": 5
}
