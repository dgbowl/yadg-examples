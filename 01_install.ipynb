{
 "cells": [
  {
   "cell_type": "markdown",
   "id": "be51e04b",
   "metadata": {},
   "source": [
    "## 1. Installing `yadg-5.1`\n",
    "\n",
    "The `yadg` package is available on the Python Package Index PyPI. In this how-to, we will be using `yadg-5.1`, which is compatible with Python versions newer than `3.9`, and supports `numpy-2.0`.  The package can be easily installed using:\n",
    "\n",
    "```bash\n",
    "python -m pip install yadg==5.1\n",
    "```\n",
    "\n",
    "To install the latest, pre-release version, use:\n",
    "\n",
    "```bash\n",
    "python -m pip install --pre yadg\n",
    "```\n",
    "\n",
    "Run the below cell to install `yadg`. It might take around a minute to complete:"
   ]
  },
  {
   "cell_type": "code",
   "execution_count": null,
   "id": "56462ffc",
   "metadata": {},
   "outputs": [],
   "source": [
    "!python -m pip install yadg==5.1"
   ]
  },
  {
   "cell_type": "markdown",
   "id": "f9ebec55",
   "metadata": {},
   "source": [
    "If the above cell finishes sucessfully, we should be able to query the version of `yadg` using the command below:"
   ]
  },
  {
   "cell_type": "code",
   "execution_count": null,
   "id": "41d7ec5d",
   "metadata": {},
   "outputs": [],
   "source": [
    "!yadg --version"
   ]
  },
  {
   "cell_type": "markdown",
   "id": "21e5a8ce",
   "metadata": {},
   "source": [
    "[Back to index](index.ipynb)"
   ]
  }
 ],
 "metadata": {
  "kernelspec": {
   "display_name": "yadg-examples",
   "language": "python",
   "name": "yadg-examples"
  },
  "language_info": {
   "codemirror_mode": {
    "name": "ipython",
    "version": 3
   },
   "file_extension": ".py",
   "mimetype": "text/x-python",
   "name": "python",
   "nbconvert_exporter": "python",
   "pygments_lexer": "ipython3",
   "version": "3.11.5"
  }
 },
 "nbformat": 4,
 "nbformat_minor": 5
}
