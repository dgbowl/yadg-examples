{
 "cells": [
  {
   "cell_type": "markdown",
   "id": "be51e04b",
   "metadata": {},
   "source": [
    "## 1. Installing `yadg-4.0.0`\n",
    "\n",
    "The `yadg` package is available on the Python Package Index PyPI. In this how-to, we will be using `yadg-4.0.0`. The package can be easily installed using:\n",
    "\n",
    "```bash\n",
    "python -m pip install yadg==4.0.0\n",
    "```\n",
    "\n",
    "To install the latest, pre-release version, use:\n",
    "\n",
    "```bash\n",
    "python -m pip install --pre yadg\n",
    "```\n",
    "\n",
    "If you executed this Jupyter notebook using binder, the package will be pre-installed from the provided [environment.yml](environment.yml) file. We can confirm the installed version using `yadg --version`:"
   ]
  },
  {
   "cell_type": "code",
   "execution_count": 1,
   "id": "41d7ec5d",
   "metadata": {},
   "outputs": [
    {
     "name": "stdout",
     "output_type": "stream",
     "text": [
      "yadg version 4.0.0\n"
     ]
    }
   ],
   "source": [
    "!yadg --version"
   ]
  },
  {
   "cell_type": "markdown",
   "id": "21e5a8ce",
   "metadata": {},
   "source": [
    "[Back to index](index.ipynb)"
   ]
  }
 ],
 "metadata": {
  "kernelspec": {
   "display_name": "yadg-usage",
   "language": "python",
   "name": "yadg-usage"
  },
  "language_info": {
   "codemirror_mode": {
    "name": "ipython",
    "version": 3
   },
   "file_extension": ".py",
   "mimetype": "text/x-python",
   "name": "python",
   "nbconvert_exporter": "python",
   "pygments_lexer": "ipython3",
   "version": "3.9.7"
  }
 },
 "nbformat": 4,
 "nbformat_minor": 5
}
