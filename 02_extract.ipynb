{
 "cells": [
  {
   "cell_type": "markdown",
   "metadata": {},
   "source": [
    "# 2. Using `yadg` to extract (meta)data from single files\n",
    "\n",
    "As of `yadg-5.0`, it is possible to access the file parsing functionality of several of the implemented filetypes, using the `yadg extract` command. An up-to-date list of exposed `Extractors` is shown in the [`yadg extractors` section of the sidebar](https://dgbowl.github.io/yadg/5.0/index.html) in the project documentation. In this tutorial, we will show you how to extract the data from a BioLogic `.mpr` file, and the meta-data from a PANalytical `.xrdml` file."
   ]
  },
  {
   "cell_type": "markdown",
   "metadata": {},
   "source": [
    "## 2.1 `yadg extract` usage\n",
    "\n",
    "The usage of the `yadg extract` command can be accesed via the `--help` argument:"
   ]
  },
  {
   "cell_type": "code",
   "execution_count": null,
   "metadata": {},
   "outputs": [],
   "source": [
    "!yadg extract --help"
   ]
  },
  {
   "cell_type": "markdown",
   "metadata": {},
   "source": [
    "## 2.2 Extracting data from a BioLogic `.mpr` file\n",
    "As of `yadg-5.0`, data from supported `filetypes` is extracted into a NetCDF file (`.nc`). As shown in the above usage, to extract the data, we need to specify the `filetype` (in this case `eclab.mpr`), the input file (using the `infile` argument). The output file path is optional and will default to the basename of the `infile` with a `.nc` suffix.\n",
    "\n",
    "In this example, we are extracting some PEIS data from the `extract/peis.mpr` file. As we don't specify an `outfile`, the data will be dumped into `extract/peis.nc`:"
   ]
  },
  {
   "cell_type": "code",
   "execution_count": null,
   "metadata": {},
   "outputs": [],
   "source": [
    "!yadg extract eclab.mpr extract/peis.mpr"
   ]
  },
  {
   "cell_type": "markdown",
   "metadata": {},
   "source": [
    "We can open the generated `extract/peis.nc` NetCDF file using the `xarray` package. The `Extractors` exposed in `yadg-5.0` always write a plain `xarray.Dataset` into the resulting NetCDF file, therefore the data can be loaded using the following commands:"
   ]
  },
  {
   "cell_type": "code",
   "execution_count": null,
   "metadata": {},
   "outputs": [],
   "source": [
    "import xarray as xr\n",
    "ds = xr.open_dataset('extract/peis.nc')\n",
    "ds"
   ]
  },
  {
   "cell_type": "markdown",
   "metadata": {},
   "source": [
    "Note that the above `xarray.Dataset` contains one dimension (`uts`, corresponding to the unix timestamp), 48 data variables (including nominal values and standard errors), and some metadata stored in the attributes section, including creation date and command used.\n",
    "\n",
    "We can access the data within the `xarray.Dataset` using the usual dictionary notation, returning a `xarray.DataArray` object:"
   ]
  },
  {
   "cell_type": "code",
   "execution_count": null,
   "metadata": {},
   "outputs": [],
   "source": [
    "ds[\"freq\"]"
   ]
  },
  {
   "cell_type": "markdown",
   "metadata": {},
   "source": [
    "Note that the `xarray.DataArray` contains a reference to the coordinates (`uts`), and its annotations include `units` (here `Hz`) and a reference to the standard error of the data points via `ancillary_variables` (here `freq_std_err`), following the [NetCDF Climate and Forecast Metadata Conventions](https://cfconventions.org/Data/cf-conventions/cf-conventions-1.10/cf-conventions.pdf). For more information about working with `xarray` objects, see the [`xarray` documentation](https://docs.xarray.dev/en/stable/index.html)."
   ]
  },
  {
   "cell_type": "markdown",
   "metadata": {},
   "source": [
    "# 2.3 Extracting metadata from a PANalytical `.xrdml` file\n",
    "In some cases, it might be more conventient to extract only the metadata from a file, e.g. in cases where transferring the whole dataset over the network is inconvenient. According to the usage instructions, this can be achieved using the `--meta-only` switch. In this case, the output file will be a JSON. To extract PANalytical `.xrdml` files, we need to pass `panalytical.xrdml` as the `filetype` argument:"
   ]
  },
  {
   "cell_type": "code",
   "execution_count": null,
   "metadata": {},
   "outputs": [],
   "source": [
    "!yadg extract --meta-only panalytical.xrdml extract/scans.xrdml extract/scans-metadata.json"
   ]
  },
  {
   "cell_type": "markdown",
   "metadata": {},
   "source": [
    "As the output file in [`extract/scans-metadata.json`](extract/scans-metadata.json) is a JSON file, we can view it by opening it in Firefox, or using `IPython.display.JSON`:"
   ]
  },
  {
   "cell_type": "code",
   "execution_count": null,
   "metadata": {},
   "outputs": [],
   "source": [
    "from IPython.display import JSON\n",
    "JSON(filename = \"extract/scans-metadata.json\", expanded=False)"
   ]
  },
  {
   "cell_type": "markdown",
   "metadata": {},
   "source": [
    "This metadata information contains the specification of:\n",
    "\n",
    "- `\"attrs\"`: containing the overall metadata, including provenance info,\n",
    "- `\"dims\"`: the data dimensions, listing the dimension names and their shapes,\n",
    "- `\"coords\"`: the data coordinates, including the coordinate names, applicable dimensions, attributes, shape, and dtype,\n",
    "- `\"data_vars\"`: the data variables, including the variable names, applicable dimensions, attributes, shape, and dtype.\n"
   ]
  },
  {
   "cell_type": "markdown",
   "metadata": {},
   "source": [
    "[Back to index](index.ipynb)"
   ]
  },
  {
   "cell_type": "markdown",
   "metadata": {},
   "source": []
  }
 ],
 "metadata": {
  "kernelspec": {
   "display_name": "yadg-examples",
   "language": "python",
   "name": "yadg-examples"
  },
  "language_info": {
   "codemirror_mode": {
    "name": "ipython",
    "version": 3
   },
   "file_extension": ".py",
   "mimetype": "text/x-python",
   "name": "python",
   "nbconvert_exporter": "python",
   "pygments_lexer": "ipython3",
   "version": "3.11.5"
  }
 },
 "nbformat": 4,
 "nbformat_minor": 4
}
