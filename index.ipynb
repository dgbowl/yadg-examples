{
 "cells": [
  {
   "cell_type": "markdown",
   "id": "1942b5bf",
   "metadata": {},
   "source": [
    "# How to use `yadg-4.0.0`\n",
    "### Author: Peter Kraus, Date: 2022-03-14\n",
    "\n",
    "This notebook contains interactive examples on how to install and use `yadg-4.0.0` to process several data types:\n",
    "\n",
    "- **electrochemistry:** EC-Lab `mpr` and `mpt` files\n",
    "- **chromatography:** Agilent `dx` files, including peak integration\n",
    "- **network analyser:** Agilent `csv` files, including fitting of quality factors"
   ]
  },
  {
   "cell_type": "markdown",
   "id": "8f79399e",
   "metadata": {},
   "source": [
    " 1. [Installation](install.ipynb)\n",
    " 2. [Usage: electrochemistry](electrochemistry.ipynb) example\n",
    " 3. [Usage: chromatography](chromatography.ipynb) example\n",
    " 4. [Usage: network analyser](vna.ipynb) example"
   ]
  },
  {
   "cell_type": "markdown",
   "id": "218989af",
   "metadata": {},
   "source": [
    "The `dataschemas` from the above examples can be easily combined into one larger `dataschema`, parsing various output file types in multiple steps."
   ]
  },
  {
   "cell_type": "code",
   "execution_count": null,
   "id": "cc008846",
   "metadata": {},
   "outputs": [],
   "source": []
  }
 ],
 "metadata": {
  "kernelspec": {
   "display_name": "yadg-usage",
   "language": "python",
   "name": "yadg-usage"
  },
  "language_info": {
   "codemirror_mode": {
    "name": "ipython",
    "version": 3
   },
   "file_extension": ".py",
   "mimetype": "text/x-python",
   "name": "python",
   "nbconvert_exporter": "python",
   "pygments_lexer": "ipython3",
   "version": "3.9.7"
  }
 },
 "nbformat": 4,
 "nbformat_minor": 5
}
