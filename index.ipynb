{
 "cells": [
  {
   "cell_type": "markdown",
   "id": "1942b5bf",
   "metadata": {},
   "source": [
    "# How to use `yadg-5.1`\n",
    "### Author: Peter Kraus, Date: 2024-07-02\n",
    "\n",
    "This notebook contains several interactive examples on how to install and use `yadg-5.1` to achieve:\n",
    "\n",
    "- Extraction of (meta)data from individual files on the command line\n",
    "- Extraction of data from individual files in memory\n",
    "- Processing of a heterogeneous set of files into a standardised format using a *dataschema*\n",
    "- Reproducible processing of structured raw data folders using a *dataschema preset*\n",
    "\n",
    "\n",
    "The tutorial is split into the following parts:\n",
    "\n",
    " 1. [Installation](01_install.ipynb)\n",
    " 1. Usage: single file extraction - [`yadg extract` example usage](02a_yadg_extract.ipynb)\n",
    " 1. Usage: Python API for extraction - [`yadg.extractors.extract` example usage](02b_extractors.extract.ipynb)\n",
    " 1. Usage: processing a folder with raw data - [`yadg process` example usage](03_process.ipynb)\n",
    " 1. Usage: reuse of *dataschema* presets - [`yadg preset` example usage](04_preset.ipynb)\n",
    "\n",
    "🚨: Please make sure you follow the above tutorial step-by-step, as out-of-the box, `yadg-5.1` is not installed in this environment.\n",
    "\n",
    "\n",
    "\n",
    "In case of any queries or questions, contact us via [GitHub](https://github.com/dgbowl/yadg)."
   ]
  },
  {
   "cell_type": "code",
   "execution_count": null,
   "id": "4d13cb4f-8498-4246-ae7b-61d238715440",
   "metadata": {},
   "outputs": [],
   "source": []
  }
 ],
 "metadata": {
  "kernelspec": {
   "display_name": "yadg-examples",
   "language": "python",
   "name": "yadg-examples"
  },
  "language_info": {
   "codemirror_mode": {
    "name": "ipython",
    "version": 3
   },
   "file_extension": ".py",
   "mimetype": "text/x-python",
   "name": "python",
   "nbconvert_exporter": "python",
   "pygments_lexer": "ipython3",
   "version": "3.11.5"
  }
 },
 "nbformat": 4,
 "nbformat_minor": 5
}
