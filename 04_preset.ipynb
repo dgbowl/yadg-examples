{
 "cells": [
  {
   "cell_type": "markdown",
   "metadata": {},
   "source": [
    "# 4. Using `yadg` to process structured experimental data using *presets*\n",
    "In the previous tutorial, we have explored how one can create a *DataSchema* to process a single set of files. However, in many cases one may wish to process structured experimental data from multiple experiments using the same workflow. This can be achieved using the `yadg preset` functionality. The usage can be accessed using the `--help` argument:"
   ]
  },
  {
   "cell_type": "code",
   "execution_count": null,
   "metadata": {},
   "outputs": [],
   "source": [
    "!yadg preset --help"
   ]
  },
  {
   "cell_type": "markdown",
   "metadata": {},
   "source": [
    "Unlike `yadg process`, in the `yadg preset` case the first argument is the *DataSchema* `preset`, the second argument is a `folder` on which the `preset` will act. The `outfile` path is optional.\n",
    "\n",
    "By default, `yadg preset` takes the *DataSchema* `preset` file and patches it using the `folder`, creating a full *DataSchema* which is then written into the `outfile` location. This *DataSchema* can however be processed directly by `yadg preset` if the `--process` argument is specified.\n",
    "\n",
    "# 4.1. Processing of files using a preset\n",
    "The `preset` corresponding to the *DataSchema* used in [the previous tutorial](03_process.ipynb) is stored in [`preset/preset.yml`](preset/preset.yml). The only difference between the two is the use of relative paths in the `input->folders` specification of the `steps`. We can then re-process the data used in the previous example, storing the NetCDF file in `preset/previous.nc`, as follows:"
   ]
  },
  {
   "cell_type": "code",
   "execution_count": null,
   "metadata": {},
   "outputs": [],
   "source": [
    "!yadg preset --process preset/preset.yml process/data preset/previous.nc"
   ]
  },
  {
   "cell_type": "markdown",
   "metadata": {},
   "source": [
    "Again, we show the two leaves of the `DataTree`, corresponding to the two *steps* in our `preset` below:"
   ]
  },
  {
   "cell_type": "code",
   "execution_count": null,
   "metadata": {},
   "outputs": [],
   "source": [
    "from datatree import open_datatree\n",
    "open_datatree(\"preset/previous.nc\")"
   ]
  },
  {
   "cell_type": "markdown",
   "metadata": {},
   "source": [
    "To process a different folder using the same data structure (i.e. `LSV` data contained in an `eclab.mpr` file, `GC` data contained in an `fusion.zip` file), we can reuse the `preset` but provide the new folder (here `preset/current`):"
   ]
  },
  {
   "cell_type": "code",
   "execution_count": null,
   "metadata": {},
   "outputs": [],
   "source": [
    "!yadg preset --process preset/preset.yml preset/current preset/current.nc\n",
    "open_datatree(\"preset/current.nc\")"
   ]
  },
  {
   "cell_type": "markdown",
   "metadata": {},
   "source": [
    "By comparing the two outputs, we can see that while the `previous.nc` file contains 235 `LSV` points and 120 `GC` datapoints, the new `current.nc` file contains 240 `LSV` points and 64 `GC` datapoints. The data structure is now standardised."
   ]
  },
  {
   "cell_type": "markdown",
   "metadata": {},
   "source": [
    "[Back to index](index.ipynb)"
   ]
  },
  {
   "cell_type": "markdown",
   "metadata": {},
   "source": []
  }
 ],
 "metadata": {
  "kernelspec": {
   "display_name": "yadg-examples",
   "language": "python",
   "name": "yadg-examples"
  },
  "language_info": {
   "codemirror_mode": {
    "name": "ipython",
    "version": 3
   },
   "file_extension": ".py",
   "mimetype": "text/x-python",
   "name": "python",
   "nbconvert_exporter": "python",
   "pygments_lexer": "ipython3",
   "version": "3.11.5"
  }
 },
 "nbformat": 4,
 "nbformat_minor": 4
}
