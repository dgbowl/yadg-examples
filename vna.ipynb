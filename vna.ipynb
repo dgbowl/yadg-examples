{
 "cells": [
  {
   "cell_type": "markdown",
   "id": "02deb5e9",
   "metadata": {},
   "source": [
    "## 4. yadg usage: network analyser example\n",
    "\n",
    "One of the features in `yadg-3.1.0` was the parsing of network analyser traces and their fitting to obtain the quality factor of the cavity $Q_0$ and the central resonance frequency $f_0$. The example below introduces this functionality:\n",
    "\n",
    "A selection of the network analyser traces is placed in the `data/vna` directory. To process these with `yadg` we need a `dataschema` file:\n",
    "\n",
    "```json\n",
    "# data/vna.schema.json\n",
    "{\n",
    "    \"metadata\": {\n",
    "        \"provenance\": \"manual\",\n",
    "        \"schema_version\": \"4.0.0\"\n",
    "    },\n",
    "    \"steps\": [\n",
    "        {\n",
    "            \"parser\": \"qftrace\",\n",
    "            \"import\": {\n",
    "                \"folders\": [\"data/vna/\"]\n",
    "            },\n",
    "            \"parameters\": {\n",
    "                \"method\": \"kajfez\",\n",
    "                \"cutoff\": 0.4\n",
    "            }\n",
    "        }\n",
    "    ]\n",
    "}\n",
    "```\n",
    "\n",
    "As with the [previous](electrochemistry.ipynb) [two](chromatography.ipynb) examples, the `metadata` key contains information about the `provenance` of the `dataschema`, as well as the version information (`4.0.0`). The parsed files are defined in the `steps` section. In this case, we want to process the files in the `data/vna` folder, using the `qftrace` parser, and fit the traces to obtain $Q_0$ and $f_0$ using the Kajfez method with a cutoff of 0.4 (default).\n",
    "\n",
    "The above `dataschema` is saved in [schemas/vna.schema.json](schemas/vna.schema.json), and can be processed as follows: "
   ]
  },
  {
   "cell_type": "code",
   "execution_count": 4,
   "id": "f33ffa92",
   "metadata": {},
   "outputs": [
    {
     "name": "stderr",
     "output_type": "stream",
     "text": [
      "DEBUG:root:loglevel set to 'DEBUG'\n",
      "INFO:root:yadg process: Reading input json from 'schemas/vna.schema.json'.\n",
      "DEBUG:root:yadg process: Validating schema.\n",
      "WARNING:root:schema_validator: Timezone not specified. Using 'localtime'.\n",
      "INFO:root:schema_validator: Tag not present in step 0. Using '00'\n",
      "INFO:root:schema_validator: Encoding not present in step 0. Using 'utf-8'\n",
      "DEBUG:root:yadg process: Processing schema\n",
      "INFO:root:process_schema: processing step 0:\n",
      "DEBUG:root:process_schema: processing item data/vna/2019-12-03-20-00-57.csv\n",
      "DEBUG:root:process_schema: processing item data/vna/2019-12-03-20-21-14.csv\n",
      "DEBUG:root:process_schema: processing item data/vna/2019-12-03-20-41-30.csv\n",
      "DEBUG:root:process_schema: processing item data/vna/2019-12-03-21-01-45.csv\n",
      "DEBUG:root:process_schema: processing item data/vna/2019-12-03-21-21-55.csv\n",
      "DEBUG:root:process_schema: processing item data/vna/2019-12-03-21-42-05.csv\n",
      "DEBUG:root:process_schema: processing item data/vna/2019-12-03-22-00-13.csv\n",
      "INFO:root:yadg process: Saving datagram to 'output/vna.dg.json'.\n"
     ]
    }
   ],
   "source": [
    "! yadg process -vv schemas/vna.schema.json output/vna.dg.json"
   ]
  },
  {
   "cell_type": "markdown",
   "id": "3e37a852",
   "metadata": {},
   "source": [
    "Note that the input files do not contain full timestamps. This is by default inferred from the filename, using the [`externaldate`](https://dgbowl.github.io/yadg/master/features.html#timestamping) functionality introduced in `yadg-4.0.0`.\n",
    "\n",
    "If the above command finished successfully, the output `datagram` will be located in [output/vna.dg.json](output/vna.dg.json). The raw data are in split into 7 timesteps, as each file contains only one timestep. The reflection coefficient traces ($f$, $\\text{Re}(\\Gamma)$, $\\text{Im}(\\Gamma)$) are in the `raw` section of each timestep, while the `derived` section contains the $Q_0$ and $f_0$ of each peak detected in the trace. See [the parser description](https://dgbowl.github.io/yadg/4.0.0/parsers.qftrace.html) for more details."
   ]
  },
  {
   "cell_type": "markdown",
   "id": "ea9169a1",
   "metadata": {},
   "source": [
    "[Back to index](index.ipynb)"
   ]
  }
 ],
 "metadata": {
  "kernelspec": {
   "display_name": "yadg-usage",
   "language": "python",
   "name": "yadg-usage"
  },
  "language_info": {
   "codemirror_mode": {
    "name": "ipython",
    "version": 3
   },
   "file_extension": ".py",
   "mimetype": "text/x-python",
   "name": "python",
   "nbconvert_exporter": "python",
   "pygments_lexer": "ipython3",
   "version": "3.9.7"
  }
 },
 "nbformat": 4,
 "nbformat_minor": 5
}
